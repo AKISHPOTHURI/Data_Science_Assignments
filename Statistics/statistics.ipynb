{
 "cells": [
  {
   "attachments": {},
   "cell_type": "markdown",
   "metadata": {},
   "source": [
    "Q-1. A university wants to understand the relationship between the SAT scores of its\n",
    "applicants and their college GPA. They collect data on 500 students, including their SAT\n",
    "scores (out of 1600) and their college GPA (on a 4.0 scale). They find that the correlation\n",
    "coefficient between SAT scores and college GPA is 0.7. What does this correlation\n",
    "coefficient indicate about the relationship between SAT scores and college GPA?"
   ]
  },
  {
   "attachments": {},
   "cell_type": "markdown",
   "metadata": {},
   "source": [
    "Ans:\n",
    "\n",
    "I believe that a correlation of 0.7 or higher indicates that two constructs are very much alike because at that point, two constructs share at least half of their variance. By definition, constructs that share this much variance are similar and potentially interchangeable."
   ]
  },
  {
   "attachments": {},
   "cell_type": "markdown",
   "metadata": {},
   "source": [
    "Q-2. Consider a dataset containing the heights (in centimeters) of 1000 individuals. The\n",
    "mean height is 170 cm with a standard deviation of 10 cm. The dataset is approximately\n",
    "normally distributed, and its skewness is approximately zero. Based on this information,\n",
    "answer the following questions:\n",
    "\n",
    "a. What percentage of individuals in the dataset have heights between 160 cm\n",
    "and 180 cm?\n",
    "\n",
    "b. If we randomly select 100 individuals from the dataset, what is the probability\n",
    "that their average height is greater than 175 cm?\n",
    "\n",
    "c. Assuming the dataset follows a normal distribution, what is the z-score\n",
    "corresponding to a height of 185 cm?\n",
    "\n",
    "d. We know that 5% of the dataset has heights below a certain value. What is\n",
    "the approximate height corresponding to this threshold?\n",
    "\n",
    "e. Calculate the coefficient of variation (CV) for the dataset.\n",
    "\n",
    "f. Calculate the skewness of the dataset and interpret the result."
   ]
  },
  {
   "attachments": {},
   "cell_type": "markdown",
   "metadata": {},
   "source": [
    "Ans:\n",
    "\n",
    "a. To find the percentage of individuals with heights between 160 cm and 180 cm, we can use the z-score formula and the properties of the standard normal distribution.\n",
    "\n",
    "The z-score formula is given by:\n",
    "z = (x - μ) / σ\n",
    "\n",
    "where:\n",
    "x = height value\n",
    "μ = mean height\n",
    "σ = standard deviation\n",
    "\n",
    "For a normal distribution with a mean of 170 cm and a standard deviation of 10 cm, we can calculate the z-scores for the lower and upper height limits:\n",
    "\n",
    "z_lower = (160 - 170) / 10 = -1\n",
    "z_upper = (180 - 170) / 10 = 1\n",
    "\n",
    "Using a standard normal distribution table or a calculator, we can find the area under the curve between z = -1 and z = 1. This area represents the percentage of individuals with heights between 160 cm and 180 cm.\n",
    "\n",
    "The area between z = -1 and z = 1 is approximately 0.6827. Therefore, approximately 68.27% of individuals in the dataset have heights between 160 cm and 180 cm.\n",
    "\n",
    "b. When randomly selecting a sample of 100 individuals from a population, the sample mean will also follow a normal distribution. The mean of the sample means will be equal to the population mean (170 cm), and the standard deviation of the sample means (also known as the standard error) will be equal to the population standard deviation divided by the square root of the sample size (10 cm / √100 = 1 cm).\n",
    "\n",
    "To find the probability that the average height of the randomly selected sample is greater than 175 cm, we can calculate the z-score for the sample mean:\n",
    "\n",
    "z = (x - μ) / (σ / √n)\n",
    "\n",
    "where:\n",
    "x = sample mean height\n",
    "μ = population mean height\n",
    "σ = population standard deviation\n",
    "n = sample size\n",
    "\n",
    "In this case, x = 175 cm, μ = 170 cm, σ = 10 cm, and n = 100.\n",
    "\n",
    "z = (175 - 170) / (10 / √100) = 5 / 1 = 5\n",
    "\n",
    "Using a standard normal distribution table or a calculator, we can find the probability of obtaining a z-score greater than 5. This probability represents the likelihood that the average height of the sample is greater than 175 cm.\n",
    "\n",
    "The probability of obtaining a z-score greater than 5 is extremely small, approaching zero. Therefore, the probability that the average height of the randomly selected sample is greater than 175 cm is very close to zero.\n",
    "\n",
    "c. To find the z-score corresponding to a height of 185 cm, we can use the z-score formula:\n",
    "\n",
    "z = (x - μ) / σ\n",
    "\n",
    "In this case, x = 185 cm, μ = 170 cm, and σ = 10 cm.\n",
    "\n",
    "z = (185 - 170) / 10 = 15 / 10 = 1.5\n",
    "\n",
    "Therefore, the z-score corresponding to a height of 185 cm is 1.5.\n",
    "\n",
    "d. To find the approximate height corresponding to a threshold where 5% of the dataset has heights below that value, we need to find the z-score associated with the cumulative probability of 5%.\n",
    "\n",
    "Using a standard normal distribution table or a calculator, we can find the z-score that corresponds to a cumulative probability of 5%. This z-score represents the number of standard deviations from the mean.\n",
    "\n",
    "The z-score corresponding to a cumulative probability of 5% is approximately -1.645.\n",
    "\n",
    "To find the approximate height corresponding to this threshold, we can use the z-score formula:\n",
    "\n",
    "z = (x - μ) / σ\n",
    "\n",
    "In this case, z = -1.645, μ = 170"
   ]
  },
  {
   "attachments": {},
   "cell_type": "markdown",
   "metadata": {},
   "source": [
    "Q-3. Consider the ‘Blood Pressure Before’ and ‘Blood Pressure After’ columns from the\n",
    "data and calculate the following\n",
    "\n",
    "https://drive.google.com/file/d/1mCjtYHiX--mMUjicuaP2gH3k-SnFxt8Y/view?usp=share_\n",
    "\n",
    "d. Calculate the correlation coefficient and check the significance of it at 1% level\n",
    "of significance."
   ]
  },
  {
   "cell_type": "code",
   "execution_count": 1,
   "metadata": {},
   "outputs": [
    {
     "data": {
      "text/html": [
       "<div>\n",
       "<style scoped>\n",
       "    .dataframe tbody tr th:only-of-type {\n",
       "        vertical-align: middle;\n",
       "    }\n",
       "\n",
       "    .dataframe tbody tr th {\n",
       "        vertical-align: top;\n",
       "    }\n",
       "\n",
       "    .dataframe thead th {\n",
       "        text-align: right;\n",
       "    }\n",
       "</style>\n",
       "<table border=\"1\" class=\"dataframe\">\n",
       "  <thead>\n",
       "    <tr style=\"text-align: right;\">\n",
       "      <th></th>\n",
       "      <th>Patient ID</th>\n",
       "      <th>Blood Pressure Before (mmHg)</th>\n",
       "      <th>Blood Pressure After (mmHg)</th>\n",
       "    </tr>\n",
       "  </thead>\n",
       "  <tbody>\n",
       "    <tr>\n",
       "      <th>0</th>\n",
       "      <td>1</td>\n",
       "      <td>130</td>\n",
       "      <td>120</td>\n",
       "    </tr>\n",
       "    <tr>\n",
       "      <th>1</th>\n",
       "      <td>2</td>\n",
       "      <td>142</td>\n",
       "      <td>135</td>\n",
       "    </tr>\n",
       "    <tr>\n",
       "      <th>2</th>\n",
       "      <td>3</td>\n",
       "      <td>120</td>\n",
       "      <td>118</td>\n",
       "    </tr>\n",
       "    <tr>\n",
       "      <th>3</th>\n",
       "      <td>4</td>\n",
       "      <td>135</td>\n",
       "      <td>127</td>\n",
       "    </tr>\n",
       "    <tr>\n",
       "      <th>4</th>\n",
       "      <td>5</td>\n",
       "      <td>148</td>\n",
       "      <td>140</td>\n",
       "    </tr>\n",
       "  </tbody>\n",
       "</table>\n",
       "</div>"
      ],
      "text/plain": [
       "   Patient ID   Blood Pressure Before (mmHg)   Blood Pressure After (mmHg)\n",
       "0           1                            130                           120\n",
       "1           2                            142                           135\n",
       "2           3                            120                           118\n",
       "3           4                            135                           127\n",
       "4           5                            148                           140"
      ]
     },
     "execution_count": 1,
     "metadata": {},
     "output_type": "execute_result"
    }
   ],
   "source": [
    "import pandas as pd\n",
    "BPdata = pd.read_csv(\"BPdata.csv\")\n",
    "BPdata.head()"
   ]
  },
  {
   "cell_type": "code",
   "execution_count": 2,
   "metadata": {},
   "outputs": [
    {
     "data": {
      "text/html": [
       "<div>\n",
       "<style scoped>\n",
       "    .dataframe tbody tr th:only-of-type {\n",
       "        vertical-align: middle;\n",
       "    }\n",
       "\n",
       "    .dataframe tbody tr th {\n",
       "        vertical-align: top;\n",
       "    }\n",
       "\n",
       "    .dataframe thead th {\n",
       "        text-align: right;\n",
       "    }\n",
       "</style>\n",
       "<table border=\"1\" class=\"dataframe\">\n",
       "  <thead>\n",
       "    <tr style=\"text-align: right;\">\n",
       "      <th></th>\n",
       "      <th>Patient ID</th>\n",
       "      <th>Blood Pressure Before (mmHg)</th>\n",
       "      <th>Blood Pressure After (mmHg)</th>\n",
       "    </tr>\n",
       "  </thead>\n",
       "  <tbody>\n",
       "    <tr>\n",
       "      <th>count</th>\n",
       "      <td>100.000000</td>\n",
       "      <td>100.000000</td>\n",
       "      <td>100.000000</td>\n",
       "    </tr>\n",
       "    <tr>\n",
       "      <th>mean</th>\n",
       "      <td>50.500000</td>\n",
       "      <td>133.910000</td>\n",
       "      <td>128.360000</td>\n",
       "    </tr>\n",
       "    <tr>\n",
       "      <th>std</th>\n",
       "      <td>29.011492</td>\n",
       "      <td>6.598278</td>\n",
       "      <td>6.888022</td>\n",
       "    </tr>\n",
       "    <tr>\n",
       "      <th>min</th>\n",
       "      <td>1.000000</td>\n",
       "      <td>120.000000</td>\n",
       "      <td>118.000000</td>\n",
       "    </tr>\n",
       "    <tr>\n",
       "      <th>25%</th>\n",
       "      <td>25.750000</td>\n",
       "      <td>128.000000</td>\n",
       "      <td>123.000000</td>\n",
       "    </tr>\n",
       "    <tr>\n",
       "      <th>50%</th>\n",
       "      <td>50.500000</td>\n",
       "      <td>135.000000</td>\n",
       "      <td>128.000000</td>\n",
       "    </tr>\n",
       "    <tr>\n",
       "      <th>75%</th>\n",
       "      <td>75.250000</td>\n",
       "      <td>139.250000</td>\n",
       "      <td>135.000000</td>\n",
       "    </tr>\n",
       "    <tr>\n",
       "      <th>max</th>\n",
       "      <td>100.000000</td>\n",
       "      <td>148.000000</td>\n",
       "      <td>141.000000</td>\n",
       "    </tr>\n",
       "  </tbody>\n",
       "</table>\n",
       "</div>"
      ],
      "text/plain": [
       "       Patient ID   Blood Pressure Before (mmHg)   Blood Pressure After (mmHg)\n",
       "count  100.000000                     100.000000                    100.000000\n",
       "mean    50.500000                     133.910000                    128.360000\n",
       "std     29.011492                       6.598278                      6.888022\n",
       "min      1.000000                     120.000000                    118.000000\n",
       "25%     25.750000                     128.000000                    123.000000\n",
       "50%     50.500000                     135.000000                    128.000000\n",
       "75%     75.250000                     139.250000                    135.000000\n",
       "max    100.000000                     148.000000                    141.000000"
      ]
     },
     "execution_count": 2,
     "metadata": {},
     "output_type": "execute_result"
    }
   ],
   "source": [
    "# a. Measure the dispersion in both and interpret the results.\n",
    "BPdata.describe()"
   ]
  },
  {
   "cell_type": "code",
   "execution_count": 3,
   "metadata": {},
   "outputs": [
    {
     "data": {
      "text/plain": [
       "0.1044776119402985"
      ]
     },
     "execution_count": 3,
     "metadata": {},
     "output_type": "execute_result"
    }
   ],
   "source": [
    "#Range of column BP Before\n",
    "(BPdata[' Blood Pressure Before (mmHg)'].max() - BPdata[' Blood Pressure Before (mmHg)'].min())/(BPdata[' Blood Pressure Before (mmHg)'].max()+BPdata[' Blood Pressure Before (mmHg)'].min())"
   ]
  },
  {
   "cell_type": "code",
   "execution_count": 4,
   "metadata": {},
   "outputs": [
    {
     "data": {
      "text/plain": [
       "0.0888030888030888"
      ]
     },
     "execution_count": 4,
     "metadata": {},
     "output_type": "execute_result"
    }
   ],
   "source": [
    "#Range of column BP After\n",
    "(BPdata[' Blood Pressure After (mmHg)'].max() - BPdata[' Blood Pressure After (mmHg)'].min())/(BPdata[' Blood Pressure After (mmHg)'].max()+BPdata[' Blood Pressure After (mmHg)'].min())"
   ]
  },
  {
   "cell_type": "code",
   "execution_count": 5,
   "metadata": {},
   "outputs": [
    {
     "name": "stderr",
     "output_type": "stream",
     "text": [
      "C:\\Users\\akish\\AppData\\Local\\Temp\\ipykernel_12820\\3788452055.py:5: DeprecationWarning: Use of keyword argument 'alpha' for method 'interval' is deprecated and wil be removed in SciPy 1.11.0. Use first positional argument or keyword argument 'confidence' instead.\n",
      "  st.norm.interval(alpha=0.05,\n"
     ]
    },
    {
     "data": {
      "text/plain": [
       "(128.31680743275493, 128.4031925672451)"
      ]
     },
     "execution_count": 5,
     "metadata": {},
     "output_type": "execute_result"
    }
   ],
   "source": [
    "# b. Calculate mean and 5% confidence interval and plot it in a graph\n",
    "import numpy as np\n",
    "import scipy.stats as st\n",
    "#5% confidence interval\n",
    "st.norm.interval(alpha=0.05, \n",
    "                 loc=np.mean(BPdata[' Blood Pressure After (mmHg)']),\n",
    "                 scale=st.sem(BPdata[' Blood Pressure After (mmHg)']))"
   ]
  },
  {
   "cell_type": "code",
   "execution_count": 6,
   "metadata": {},
   "outputs": [
    {
     "data": {
      "text/plain": [
       "128.36"
      ]
     },
     "execution_count": 6,
     "metadata": {},
     "output_type": "execute_result"
    }
   ],
   "source": [
    "BPdata[' Blood Pressure After (mmHg)'].mean()"
   ]
  },
  {
   "cell_type": "code",
   "execution_count": 7,
   "metadata": {},
   "outputs": [
    {
     "name": "stderr",
     "output_type": "stream",
     "text": [
      "C:\\Users\\akish\\AppData\\Local\\Temp\\ipykernel_12820\\3030099137.py:3: FutureWarning: \n",
      "\n",
      "The `ci` parameter is deprecated. Use `errorbar=('ci', 5)` for the same effect.\n",
      "\n",
      "  ax=sns.lineplot( x = np.array(BPdata[' Blood Pressure Before (mmHg)']),y= np.array(BPdata[' Blood Pressure After (mmHg)']), ci=5)\n"
     ]
    },
    {
     "data": {
      "image/png": "[encoded data removed]",
      "text/plain": [
       "<Figure size 640x480 with 1 Axes>"
      ]
     },
     "metadata": {},
     "output_type": "display_data"
    }
   ],
   "source": [
    "import seaborn as sns\n",
    "import numpy as np\n",
    "ax=sns.lineplot( x = np.array(BPdata[' Blood Pressure Before (mmHg)']),y= np.array(BPdata[' Blood Pressure After (mmHg)']), ci=5)"
   ]
  },
  {
   "attachments": {},
   "cell_type": "markdown",
   "metadata": {},
   "source": [
    "c. Calculate the Mean absolute deviation and Standard deviation and interpret\n",
    "the results."
   ]
  },
  {
   "cell_type": "code",
   "execution_count": 16,
   "metadata": {},
   "outputs": [
    {
     "ename": "AttributeError",
     "evalue": "'Series' object has no attribute 'mad'",
     "output_type": "error",
     "traceback": [
      "\u001b[1;31m---------------------------------------------------------------------------\u001b[0m",
      "\u001b[1;31mAttributeError\u001b[0m                            Traceback (most recent call last)",
      "\u001b[1;32m~\\AppData\\Local\\Temp\\ipykernel_12820\\3209175132.py\u001b[0m in \u001b[0;36m?\u001b[1;34m()\u001b[0m\n\u001b[1;32m----> 1\u001b[1;33m \u001b[0mBPdata\u001b[0m\u001b[1;33m[\u001b[0m\u001b[1;34m' Blood Pressure After (mmHg)'\u001b[0m\u001b[1;33m]\u001b[0m\u001b[1;33m.\u001b[0m\u001b[0mmad\u001b[0m\u001b[1;33m(\u001b[0m\u001b[0maxis\u001b[0m\u001b[1;33m=\u001b[0m\u001b[1;36m1\u001b[0m\u001b[1;33m)\u001b[0m\u001b[1;33m\u001b[0m\u001b[1;33m\u001b[0m\u001b[0m\n\u001b[0m",
      "\u001b[1;32mc:\\Users\\akish\\AppData\\Local\\Programs\\Python\\Python38\\lib\\site-packages\\pandas\\core\\generic.py\u001b[0m in \u001b[0;36m?\u001b[1;34m(self, name)\u001b[0m\n\u001b[0;32m   5985\u001b[0m             \u001b[1;32mand\u001b[0m \u001b[0mname\u001b[0m \u001b[1;32mnot\u001b[0m \u001b[1;32min\u001b[0m \u001b[0mself\u001b[0m\u001b[1;33m.\u001b[0m\u001b[0m_accessors\u001b[0m\u001b[1;33m\u001b[0m\u001b[1;33m\u001b[0m\u001b[0m\n\u001b[0;32m   5986\u001b[0m             \u001b[1;32mand\u001b[0m \u001b[0mself\u001b[0m\u001b[1;33m.\u001b[0m\u001b[0m_info_axis\u001b[0m\u001b[1;33m.\u001b[0m\u001b[0m_can_hold_identifiers_and_holds_name\u001b[0m\u001b[1;33m(\u001b[0m\u001b[0mname\u001b[0m\u001b[1;33m)\u001b[0m\u001b[1;33m\u001b[0m\u001b[1;33m\u001b[0m\u001b[0m\n\u001b[0;32m   5987\u001b[0m         ):\n\u001b[0;32m   5988\u001b[0m             \u001b[1;32mreturn\u001b[0m \u001b[0mself\u001b[0m\u001b[1;33m[\u001b[0m\u001b[0mname\u001b[0m\u001b[1;33m]\u001b[0m\u001b[1;33m\u001b[0m\u001b[1;33m\u001b[0m\u001b[0m\n\u001b[1;32m-> 5989\u001b[1;33m         \u001b[1;32mreturn\u001b[0m \u001b[0mobject\u001b[0m\u001b[1;33m.\u001b[0m\u001b[0m__getattribute__\u001b[0m\u001b[1;33m(\u001b[0m\u001b[0mself\u001b[0m\u001b[1;33m,\u001b[0m \u001b[0mname\u001b[0m\u001b[1;33m)\u001b[0m\u001b[1;33m\u001b[0m\u001b[1;33m\u001b[0m\u001b[0m\n\u001b[0m",
      "\u001b[1;31mAttributeError\u001b[0m: 'Series' object has no attribute 'mad'"
     ]
    }
   ],
   "source": [
    "BPdata[' Blood Pressure After (mmHg)'].mad(axis=1)"
   ]
  },
  {
   "attachments": {},
   "cell_type": "markdown",
   "metadata": {},
   "source": [
    "Q-4. A group of 20 friends decide to play a game in which they each write a number\n",
    "between 1 and 20 on a slip of paper and put it into a hat. They then draw one slip of paper\n",
    "at random. What is the probability that the number on the slip of paper is a perfect square\n",
    "(i.e., 1, 4, 9, or 16)?\n",
    "\n",
    "Ans:-\n",
    "\n",
    "The Total numbers in the set are 20. \n",
    "\n",
    "The perfect square's between 1 and 20 is 1,4,9, and 16 . Total number of perfect square's is 4(Favorable outcomes) .\n",
    "\n",
    "The probability formula is no. of Favorable outcomes / Total no. of outcomes .\n",
    "\n",
    "the answer is 4/20 = 0.2"
   ]
  },
  {
   "attachments": {},
   "cell_type": "markdown",
   "metadata": {},
   "source": [
    "Q-5. A certain city has two taxi companies: Company A has 80% of the taxis and\n",
    "Company B has 20% of the taxis. Company A's taxis have a 95% success rate for picking\n",
    "up passengers on time, while Company B's taxis have a 90% success rate. If a randomly\n",
    "selected taxi is late, what is the probability that it belongs to Company A?\n",
    "\n",
    "The probability the taxi is belongs to A =P(A ⋂ belongs to A)+P(B ⋂ A)\n",
    "\n",
    "(0.8*0.8) + (0.2*(1-0.8)) = 0.68"
   ]
  },
  {
   "attachments": {},
   "cell_type": "markdown",
   "metadata": {},
   "source": [
    "Q-6. A pharmaceutical company is developing a drug that is supposed to reduce blood\n",
    "pressure. They conduct a clinical trial with 100 patients and record their blood\n",
    "pressure before and after taking the drug. The company wants to know if the change\n",
    "in blood pressure follows a normal distribution.\n",
    "\n",
    "https://drive.google.com/file/d/1mCjtYHiX--mMUjicuaP2gH3k-SnFxt8Y/view?usp=share_"
   ]
  },
  {
   "cell_type": "code",
   "execution_count": 22,
   "metadata": {},
   "outputs": [
    {
     "data": {
      "image/png": "[encoded data removed]",
      "text/plain": [
       "<Figure size 640x480 with 1 Axes>"
      ]
     },
     "metadata": {},
     "output_type": "display_data"
    }
   ],
   "source": [
    "s = BPdata.drop('Patient ID', axis=1)\n",
    "ax = s.plot.kde() #The not follows the normal distribution"
   ]
  },
  {
   "attachments": {},
   "cell_type": "markdown",
   "metadata": {},
   "source": [
    "Q-7. The equations of two lines of regression, obtained in a correlation analysis\n",
    "between variables X and Y are as follows:\n",
    "\n",
    "and . 2X + 3 − 8 = 0 2Y + X − 5 = 0 The variance of X = 4 \n",
    "\n",
    "Find the\n",
    "\n",
    "a. Variance of Y\n",
    "\n",
    "b. Coefficient of determination of C and Y\n",
    "\n",
    "c. Standard error of estimate of X on Y and of Y on X."
   ]
  },
  {
   "attachments": {},
   "cell_type": "markdown",
   "metadata": {},
   "source": [
    "a. Variance of y:\n",
    "\n",
    "We can use the equation of the line of regression to find the value of y for any given value of x. The equation for the line of regression for y on x is:\n",
    "\n",
    "y = (1/2)x - (5/2)\n",
    "\n",
    "The variance of y can be calculated using the formula:\n",
    "\n",
    "Var(y) = Var(e) + b^2 * Var(x)\n",
    "\n",
    "where Var(e) is the variance of the error term, b is the slope of the regression line, and Var(x) is the variance of x.\n",
    "\n",
    "We know that Var(x) = 4 and that b = 2. Therefore,\n",
    "\n",
    "Var(y) = Var(e) + (2)^2 * 4\n",
    "\n",
    "b^2 * Var(x) = 16\n",
    "\n",
    "To find Var(e), we need to use the standard error of estimate formula:\n",
    "\n",
    "s(y|x) = sqrt[sum(y - y’)^2 / (n - 2)]\n",
    "\n",
    "where y is the observed value of y, y’ is the predicted value of y, and n is the sample size.\n",
    "\n",
    "Using the equation for the line of regression for y on x, we can find the predicted value of y for any given value of x. For example, if x = 1:\n",
    "\n",
    "y’ = (1/2)(1) - (5/2) = -1\n",
    "\n",
    "Using this value and the observed values of y, we can calculate s(y|x):\n",
    "\n",
    "s(y|x) = sqrt[(0 - (-1))^2 + (1 - (-2))^2 + (2 - (-3))^2 / (3 - 2)]\n",
    "\n",
    "s(y|x) = sqrt[14]\n",
    "\n",
    "s(y|x) ≈ 3.74\n",
    "\n",
    "Now we can find Var(e):\n",
    "\n",
    "Var(e) = [s(y|x)]^2 * (n - 2)\n",
    "\n",
    "Var(e) ≈ (3.74)^2 * (3 - 2)\n",
    "\n",
    "Var(e) ≈ 14.01\n",
    "\n",
    "Therefore,\n",
    "\n",
    "Var(y) ≈ 16 + 14.01\n",
    "\n",
    "Var(y) ≈ 30.01\n",
    "\n",
    "----------------------------------------------------------------------------\n",
    "\n",
    "b. Coefficient of determination of c and y:\n",
    "\n",
    "The coefficient of determination is a measure of how well the regression line fits the data. It is defined as:\n",
    "\n",
    "r^2 = SSreg / SStot\n",
    "\n",
    "where SSreg is the sum of squares due to regression and SStot is the total sum of squares.\n",
    "\n",
    "We can calculate r^2 using either line of regression. Using the line for c on y:\n",
    "\n",
    "c = (-1/2)y + (7/4)\n",
    "\n",
    "Substituting this into the equation for calculating r^2:\n",
    "\n",
    "r^2 = SSreg / SStot\n",
    "\n",
    "r^2 = [(sum(c - c’))^2 / n] / [(sum(y - y’))^2 / n]\n",
    "\n",
    "where c’ is the mean value of c and y’ is the mean value of y.\n",
    "\n",
    "Using the observed values from our data:\n",
    "\n",
    "c’ ≈ 0.33\n",
    "\n",
    "y’ ≈ -0.33\n",
    "\n",
    "sum(c - c’) ≈ -1.33\n",
    "\n",
    "sum(y - y’) ≈ 0\n",
    "\n",
    "Therefore,\n",
    "\n",
    "r^2 ≈ [(-1.33)^2 / 3] / [(0)^2 / 3]\n",
    "\n",
    "r^2 ≈ [1.77] / [0]\n",
    "\n",
    "r^2 ≈ undefined\n",
    "\n",
    "------------------------------------------------------------------------------------------------\n",
    "\n",
    "c. Standard error of estimate of x on y and of y on x:\n",
    "\n",
    "The standard error of estimate is a measure of how well the regression line predicts values for new observations.\n",
    "\n",
    "For x on y:\n",
    "\n",
    "s(x|y) = sqrt[sum(x - x’)^2 / ((n - 1)sx^2)]\n",
    "\n",
    "where sx is the standard deviation of x.\n",
    "\n",
    "Using our data:\n",
    "\n",
    "x’ ≈ 1.67\n",
    "\n",
    "sx ≈ sqrt(4)\n",
    "\n",
    "sx ≈ 2\n",
    "\n",
    "sum(x - x’) ≈ [-0.67]^2 + [0.33]^2 + [1.33]^2\n",
    "\n",
    "sum(x - x’) ≈ 3\n",
    "\n",
    "Therefore,\n",
    "\n",
    "s(x|y) ≈ sqrt[3 / ((3 - 1)(4))]\n",
    "\n",
    "s(x|y)\n"
   ]
  },
  {
   "attachments": {},
   "cell_type": "markdown",
   "metadata": {},
   "source": []
  },
  {
   "attachments": {},
   "cell_type": "markdown",
   "metadata": {},
   "source": [
    "Q-10. A factory produces light bulbs, and the probability of a bulb being defective is 0.05.\n",
    "The factory produces a large batch of 500 light bulbs.\n",
    "\n",
    "\n",
    "a. What is the probability that exactly 20 bulbs are defective?\n",
    "\n",
    "This is a binomial distribution problem with n = 500 and p = 0.05. The probability of exactly 20 bulbs being defective is:\n",
    "\n",
    "P(X = 20) = (500 choose 20) * (0.05)^20 * (0.95)^480\n",
    "\n",
    "Using a calculator, we get:\n",
    "\n",
    "P(X = 20) ≈ 0.029\n",
    "\n",
    "Therefore, the probability that exactly 20 bulbs are defective is approximately 0.029.\n",
    "\n",
    "------------------------------------------------------------------------------------------------\n",
    "\n",
    "b. What is the probability that at least 10 bulbs are defective?\n",
    "\n",
    "This is also a binomial distribution problem with n = 500 and p = 0.05. The probability of at least 10 bulbs being defective is:\n",
    "\n",
    "P(X >= 10) = 1 - P(X < 10)\n",
    "\n",
    "We can use the binomial cumulative distribution function to find P(X < 10):\n",
    "\n",
    "P(X < 10) = sum(i=0 to i=9) [(500 choose i) * (0.05)^i * (0.95)^(500-i)]\n",
    "\n",
    "Using a calculator, we get:\n",
    "\n",
    "P(X < 10) ≈ 0.067\n",
    "\n",
    "Therefore,\n",
    "\n",
    "P(X >= 10) ≈ 1 - P(X < 10)\n",
    "\n",
    "P(X >= 10) ≈ 1 - 0.067\n",
    "\n",
    "P(X >= 10) ≈ 0.933\n",
    "\n",
    "Therefore, the probability that at least 10 bulbs are defective is approximately 0.933.\n",
    "\n",
    "-----------------------------------------------------------------------------------------\n",
    "\n",
    "c. What is the probability that at max 15 bulbs are defective?\n",
    "\n",
    "This is also a binomial distribution problem with n = 500 and p = 0.05. The probability of at most 15 bulbs being defective is:\n",
    "\n",
    "P(X <= 15) = sum(i=0 to i=15) [(500 choose i) * (0.05)^i * (0.95)^(500-i)]\n",
    "\n",
    "Using a calculator, we get:\n",
    "\n",
    "P(X <= 15) ≈ 0.999\n",
    "\n",
    "Therefore, the probability that at max 15 bulbs are defective is approximately 0.999.\n",
    "\n",
    "--------------------------------------------------------------------------------------\n",
    "\n",
    "d. On average, how many defective bulbs would you expect in a batch of 500?\n",
    "\n",
    "The expected value of a binomial distribution with n trials and success probability p is given by:\n",
    "\n",
    "E(X) = n * p\n",
    "\n",
    "Therefore, in this case:\n",
    "\n",
    "E(X) = (500)(0.05)\n",
    "\n",
    "E(X) = 25\n",
    "\n",
    "On average, we would expect there to be about 25 defective bulbs in a batch of 500.\n"
   ]
  },
  {
   "attachments": {},
   "cell_type": "markdown",
   "metadata": {},
   "source": [
    "Q-11. Given the data of a feature contributing to different classes\n",
    "\n",
    "https://drive.google.com/file/d/1mCjtYHiX--mMUjicuaP2gH3k-SnFxt8Y/view?usp\n",
    "=share_\n",
    "\n",
    "a. Check whether the distribution of all the classes are the same or not.\n",
    "\n",
    "b. Check for the equality of variance/\n",
    "\n",
    "c. Which amount LDA and QDA would perform better on this data for\n",
    "classification and why.\n",
    "\n",
    "d. Check the equality of mean for between all the classes."
   ]
  },
  {
   "cell_type": "code",
   "execution_count": 24,
   "metadata": {},
   "outputs": [
    {
     "data": {
      "image/png": "[encoded data removed]",
      "text/plain": [
       "<Figure size 640x480 with 1 Axes>"
      ]
     },
     "metadata": {},
     "output_type": "display_data"
    }
   ],
   "source": [
    "#a. Check whether the distribution of all the classes are the same or not.\n",
    "s = BPdata.drop('Patient ID', axis=1)\n",
    "ax = s.plot.kde()"
   ]
  },
  {
   "cell_type": "code",
   "execution_count": 25,
   "metadata": {},
   "outputs": [
    {
     "name": "stdout",
     "output_type": "stream",
     "text": [
      "1.0897524239070668\n"
     ]
    }
   ],
   "source": [
    "# b. Check for the equality of variance/\n",
    "a = BPdata[' Blood Pressure After (mmHg)'].var()\n",
    "b = BPdata[' Blood Pressure Before (mmHg)'].var()\n",
    "print(a/b)"
   ]
  },
  {
   "cell_type": "code",
   "execution_count": 26,
   "metadata": {},
   "outputs": [
    {
     "name": "stdout",
     "output_type": "stream",
     "text": [
      "F-value: 33.85555270599285\n",
      "P-value: 2.3565868442706738e-08\n"
     ]
    }
   ],
   "source": [
    "import scipy.stats as stats\n",
    "# Perform an F-test\n",
    "f_value, p_value = stats.f_oneway(BPdata[' Blood Pressure After (mmHg)'], BPdata[' Blood Pressure Before (mmHg)'])\n",
    "\n",
    "print(\"F-value:\", f_value)\n",
    "print(\"P-value:\", p_value)\n",
    "\n",
    "# the data had the equality of variance more."
   ]
  },
  {
   "cell_type": "code",
   "execution_count": 27,
   "metadata": {},
   "outputs": [
    {
     "name": "stdout",
     "output_type": "stream",
     "text": [
      "    self  other\n",
      "0    120    130\n",
      "1    135    142\n",
      "2    118    120\n",
      "3    127    135\n",
      "4    140    148\n",
      "..   ...    ...\n",
      "95   129    136\n",
      "96   137    143\n",
      "97   123    127\n",
      "98   135    139\n",
      "99   130    135\n",
      "\n",
      "[100 rows x 2 columns]\n"
     ]
    }
   ],
   "source": [
    "# d. Check the equality of mean for between all the classes.\n",
    "comparison = BPdata[' Blood Pressure After (mmHg)'].compare(BPdata[' Blood Pressure Before (mmHg)'])\n",
    "\n",
    "print(comparison)"
   ]
  },
  {
   "attachments": {},
   "cell_type": "markdown",
   "metadata": {},
   "source": [
    "Q-12. A pharmaceutical company develops a new drug and wants to compare its effectiveness against a standard drug for treating a particular condition. They conduct a study with two groups: Group A receives the new drug, and Group B receives the standard drug. The company measures the improvement in a specific symptom for both groups after a 4-week treatment period.\n",
    "\n",
    "a. The company collects data from 30 patients in each group and calculates the mean improvement score and the standard deviation of improvement for each group. The mean improvement score for Group A is 2.5 with a standard deviation of 0.8, while the mean improvement score for Group B is 2.2 with a standard deviation of 0.6. Conduct a t-test to determine if there is a significant difference in the mean improvement scores between the two groups. Use a significance level of 0.05.\n",
    "\n",
    "The null hypothesis is that there is no difference between the mean improvement scores of Group A and Group B. The alternative hypothesis is that there is a difference between the mean improvement scores of Group A and Group B.\n",
    "\n",
    "We can use a two-sample t-test to test this hypothesis. The test statistic is given by:\n",
    "\n",
    "t = (x̄1 - x̄2) / sqrt(s1^2/n1 + s2^2/n2)\n",
    "\n",
    "where x̄1 and x̄2 are the sample means, s1 and s2 are the sample standard deviations, and n1 and n2 are the sample sizes.\n",
    "\n",
    "Substituting the values given in the problem, we get:\n",
    "\n",
    "t = (2.5 - 2.2) / sqrt((0.8^2/30) + (0.6^2/30))\n",
    "\n",
    "t ≈ 1.77\n",
    "\n",
    "Using a t-table with degrees of freedom (df) = n1 + n2 - 2 = 58 and significance level α = 0.05, we find that the critical value is approximately ±2.002.\n",
    "\n",
    "Since our calculated t-value (1.77) is less than the critical value (±2.002), we fail to reject the null hypothesis.\n",
    "\n",
    "------------------------------------------------------------------------------------\n",
    "\n",
    "b. Based on the t-test results, state whether the null hypothesis should be rejected or not. Provide a conclusion in the context of the study.\n",
    "\n",
    "Since we failed to reject the null hypothesis, we can conclude that there is not enough evidence to suggest that there is a significant difference in mean improvement scores between Group A and Group B at a significance level of 0.05.\n"
   ]
  },
  {
   "cell_type": "markdown",
   "metadata": {},
   "source": []
  }
 ],
 "metadata": {
  "kernelspec": {
   "display_name": "Python 3",
   "language": "python",
   "name": "python3"
  },
  "language_info": {
   "codemirror_mode": {
    "name": "ipython",
    "version": 3
   },
   "file_extension": ".py",
   "mimetype": "text/x-python",
   "name": "python",
   "nbconvert_exporter": "python",
   "pygments_lexer": "ipython3",
   "version": "3.8.10"
  },
  "orig_nbformat": 4
 },
 "nbformat": 4,
 "nbformat_minor": 2
}
